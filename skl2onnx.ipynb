{
 "cells": [
  {
   "cell_type": "code",
   "execution_count": 1,
   "metadata": {},
   "outputs": [],
   "source": [
    "\n",
    "\n",
    "from datetime import date, timedelta\n",
    "import pandas as pd\n",
    "import holidays\n",
    "\n",
    "\n",
    "import pandas as pd\n",
    "import numpy as np\n",
    "from sklearn.model_selection import train_test_split\n",
    "from sklearn.metrics import mean_squared_error, mean_absolute_error, r2_score, mean_absolute_percentage_error\n",
    "\n",
    "from sklearn import metrics\n",
    "\n",
    "import sys, json, joblib\n"
   ]
  },
  {
   "cell_type": "code",
   "execution_count": 4,
   "metadata": {},
   "outputs": [],
   "source": [
    "\n",
    "req_data = {\"city\": \"New_York\", \"model\":\"XGBoost\"}\n",
    "df_year=pd.read_csv(f'Data/{req_data[\"city\"]}_2001_2023.csv')\n",
    "\n",
    "# print(df_year)\n",
    "\n",
    "df_year = df_year.set_index('date')\n",
    "\n",
    "df_year.index =  pd.to_datetime(df_year.index,format = '%Y-%m-%d %H:%M:%S')\n",
    "df_year = df_year[(df_year.index >='2001') & (df_year.index <='2024') ]\n",
    "\n",
    "\n",
    "# Create a list of dates from 1 Jan 2023 to 1 Jan 2024\n",
    "start_date = df_year.head(1).index.date[0]\n",
    "end_date = df_year.tail(1).index.date[0]\n",
    "\n",
    "delta = timedelta(days=1)\n",
    "dates = []\n",
    "while start_date <= end_date:\n",
    "    dates.append(start_date)\n",
    "    start_date += delta\n",
    "dates.append(start_date)\n",
    "# Create a DataFrame\n",
    "df_h = pd.DataFrame(dates, columns=['Date'])\n",
    "\n",
    "# Get US holidays\n",
    "us_holidays = holidays.US(state='NY')\n",
    "\n",
    "# Create a column for holidays\n",
    "df_h['Holiday'] = df_h['Date'].apply(lambda x: us_holidays.get(x))\n",
    "\n",
    "df_h['Date'] = pd.to_datetime(df_h['Date'], format = '%Y-%m-%d')\n",
    "\n",
    "df_h.set_index('Date',inplace=True)\n",
    "\n",
    "df_h[df_h['Holiday'].isnull()] = 0\n",
    "df_h[df_h['Holiday'] != 0] = 1\n",
    "\n",
    "df_h = df_h.resample('h').ffill()\n",
    "\n",
    "df_h = df_h['Holiday'].astype('int32')\n",
    "df_h = df_h.to_frame('Holiday')\n",
    "\n",
    "\n",
    "def create_features(df_yr):\n",
    "\n",
    "    df = df_yr.copy()\n",
    "\n",
    "    df['hour'] = df.index.hour\n",
    "    df['dayofweek'] = df.index.dayofweek\n",
    "    # df['weekday'] = df['date'].dt.day_name()\n",
    "    # df['weekday'] = df['weekday'].map(weekday_mapping)\n",
    "    df['quarter'] = df.index.quarter\n",
    "    df['month'] = df.index.month\n",
    "    df['year'] = df.index.year\n",
    "    df['dayofyear'] = df.index.dayofyear\n",
    "    df['dayofmonth'] = df.index.day\n",
    "    df['weekofyear'] = df.index.isocalendar().week\n",
    "    df['date_offset'] = (df.index.month*100 + df.index.day - 320)%1300\n",
    "\n",
    "    df['season'] = pd.cut(df['date_offset'], [0, 300, 602, 900, 1300],\n",
    "                          labels=[0, 1, 2, 3] # 0 = 'Spring', 1 = 'Summer', 2 = 'Fall', 3 = 'Winter'\n",
    "                   )\n",
    "    df['holiday'] = df_h[\"Holiday\"]\n",
    "    df=df.dropna()\n",
    "\n",
    "    return df\n",
    "\n",
    "\n",
    "FEATURES = ['hour','dayofweek','quarter','month','year',\n",
    "          'dayofyear','dayofmonth','weekofyear',\n",
    "           'season', 'holiday']\n",
    "TARGET = 'Crime Count'\n",
    "\n",
    "\n",
    "df_n = create_features(df_year)\n",
    "\n",
    "X = df_n[FEATURES]# Input variable\n",
    "y = df_n[TARGET] # Output variable\n",
    "# Split the data into training and testing sets\n",
    "X_train, X_test, y_train, y_test = train_test_split(X, y, test_size=0.3, random_state=None, shuffle = False)\n"
   ]
  },
  {
   "cell_type": "code",
   "execution_count": 5,
   "metadata": {},
   "outputs": [],
   "source": [
    "X_train['season'] = X_train['season'].astype(np.int32)\n",
    "X_train['weekofyear'] = X_train['weekofyear'].astype(np.int32)\n",
    "X_test['season'] = X_test['season'].astype(np.int32)\n",
    "X_test['weekofyear'] = X_test['weekofyear'].astype(np.int32)"
   ]
  },
  {
   "cell_type": "code",
   "execution_count": 7,
   "metadata": {},
   "outputs": [
    {
     "name": "stdout",
     "output_type": "stream",
     "text": [
      "<class 'pandas.core.frame.DataFrame'>\n",
      "DatetimeIndex: 2621 entries, 2023-09-13 19:00:00 to 2023-12-31 23:00:00\n",
      "Data columns (total 10 columns):\n",
      " #   Column      Non-Null Count  Dtype\n",
      "---  ------      --------------  -----\n",
      " 0   hour        2621 non-null   int32\n",
      " 1   dayofweek   2621 non-null   int32\n",
      " 2   quarter     2621 non-null   int32\n",
      " 3   month       2621 non-null   int32\n",
      " 4   year        2621 non-null   int32\n",
      " 5   dayofyear   2621 non-null   int32\n",
      " 6   dayofmonth  2621 non-null   int32\n",
      " 7   weekofyear  2621 non-null   int32\n",
      " 8   season      2621 non-null   int32\n",
      " 9   holiday     2621 non-null   int32\n",
      "dtypes: int32(10)\n",
      "memory usage: 122.9 KB\n"
     ]
    }
   ],
   "source": [
    "X_test.info()"
   ]
  },
  {
   "cell_type": "code",
   "execution_count": 90,
   "metadata": {},
   "outputs": [
    {
     "data": {
      "text/plain": [
       "array([[ 0.,  6.,  1., ..., 52.,  3.,  1.],\n",
       "       [ 1.,  6.,  1., ..., 52.,  3.,  1.],\n",
       "       [ 2.,  6.,  1., ..., 52.,  3.,  1.],\n",
       "       ...,\n",
       "       [16.,  2.,  3., ..., 37.,  1.,  0.],\n",
       "       [17.,  2.,  3., ..., 37.,  1.,  0.],\n",
       "       [18.,  2.,  3., ..., 37.,  1.,  0.]], dtype=float32)"
      ]
     },
     "execution_count": 90,
     "metadata": {},
     "output_type": "execute_result"
    }
   ],
   "source": [
    " X_train.values.astype(np.float32)"
   ]
  },
  {
   "cell_type": "code",
   "execution_count": 10,
   "metadata": {},
   "outputs": [],
   "source": [
    "model = joblib.load(f\"Models/{req_data['city']}_{req_data['model']}.joblib\")"
   ]
  },
  {
   "cell_type": "code",
   "execution_count": 156,
   "metadata": {},
   "outputs": [],
   "source": [
    "import skl2onnx\n",
    "from skl2onnx.common.data_types import FloatTensorType\n",
    "import onnx\n",
    "\n",
    "from skl2onnx.common.data_types import FloatTensorType\n",
    "from skl2onnx import convert_sklearn, to_onnx, update_registered_converter\n",
    "from skl2onnx.common.shape_calculator import (\n",
    "    calculate_linear_regressor_output_shapes\n",
    ")\n",
    "from onnxmltools.convert.xgboost.operator_converters.XGBoost import convert_xgboost\n",
    "from onnxmltools.convert import convert_xgboost as convert_xgboost_booster\n",
    "\n"
   ]
  },
  {
   "cell_type": "code",
   "execution_count": 178,
   "metadata": {},
   "outputs": [],
   "source": [
    "from xgboost import XGBRegressor"
   ]
  },
  {
   "cell_type": "code",
   "execution_count": 179,
   "metadata": {},
   "outputs": [],
   "source": [
    "update_registered_converter(\n",
    "    XGBRegressor,\n",
    "    \"XGBoostXGBRegressor\",\n",
    "    calculate_linear_regressor_output_shapes,\n",
    "    convert_xgboost,\n",
    ")"
   ]
  },
  {
   "cell_type": "code",
   "execution_count": 180,
   "metadata": {},
   "outputs": [
    {
     "data": {
      "text/plain": [
       "{'hour': 'f0',\n",
       " 'dayofweek': 'f1',\n",
       " 'quarter': 'f2',\n",
       " 'month': 'f3',\n",
       " 'year': 'f4',\n",
       " 'dayofyear': 'f5',\n",
       " 'dayofmonth': 'f6',\n",
       " 'weekofyear': 'f7',\n",
       " 'season': 'f8',\n",
       " 'holiday': 'f9'}"
      ]
     },
     "execution_count": 180,
     "metadata": {},
     "output_type": "execute_result"
    }
   ],
   "source": [
    "new_column_names = {col: f'f{i}' for i, col in enumerate(X_train.columns)}\n",
    "new_column_names"
   ]
  },
  {
   "cell_type": "code",
   "execution_count": 181,
   "metadata": {},
   "outputs": [],
   "source": [
    "X_train = X_train.rename(columns = new_column_names)\n",
    "X_test = X_test.rename(columns = new_column_names)"
   ]
  },
  {
   "cell_type": "code",
   "execution_count": 182,
   "metadata": {},
   "outputs": [
    {
     "name": "stdout",
     "output_type": "stream",
     "text": [
      "<class 'pandas.core.frame.DataFrame'>\n",
      "DatetimeIndex: 140734 entries, 2001-01-01 00:00:00 to 2017-02-05 21:00:00\n",
      "Data columns (total 10 columns):\n",
      " #   Column  Non-Null Count   Dtype\n",
      "---  ------  --------------   -----\n",
      " 0   f0      140734 non-null  int32\n",
      " 1   f1      140734 non-null  int32\n",
      " 2   f2      140734 non-null  int32\n",
      " 3   f3      140734 non-null  int32\n",
      " 4   f4      140734 non-null  int32\n",
      " 5   f5      140734 non-null  int32\n",
      " 6   f6      140734 non-null  int32\n",
      " 7   f7      140734 non-null  int32\n",
      " 8   f8      140734 non-null  int32\n",
      " 9   f9      140734 non-null  int32\n",
      "dtypes: int32(10)\n",
      "memory usage: 6.4 MB\n"
     ]
    }
   ],
   "source": [
    "X_train.info()"
   ]
  },
  {
   "cell_type": "code",
   "execution_count": 183,
   "metadata": {},
   "outputs": [
    {
     "name": "stdout",
     "output_type": "stream",
     "text": [
      "[0]\tvalidation_0-rmse:48.77101\tvalidation_1-rmse:30.11709\n",
      "[1]\tvalidation_0-rmse:48.34244\tvalidation_1-rmse:29.83314\n",
      "[2]\tvalidation_0-rmse:47.91787\tvalidation_1-rmse:29.55205\n",
      "[3]\tvalidation_0-rmse:47.49727\tvalidation_1-rmse:29.27356\n",
      "[4]\tvalidation_0-rmse:47.08060\tvalidation_1-rmse:28.99792\n",
      "[5]\tvalidation_0-rmse:46.66783\tvalidation_1-rmse:28.72482\n",
      "[6]\tvalidation_0-rmse:46.25892\tvalidation_1-rmse:28.45457\n",
      "[7]\tvalidation_0-rmse:45.85385\tvalidation_1-rmse:28.18694\n",
      "[8]\tvalidation_0-rmse:45.45257\tvalidation_1-rmse:27.92201\n",
      "[9]\tvalidation_0-rmse:45.05504\tvalidation_1-rmse:27.66010\n",
      "[10]\tvalidation_0-rmse:44.66131\tvalidation_1-rmse:27.40052\n",
      "[11]\tvalidation_0-rmse:44.27120\tvalidation_1-rmse:27.14442\n",
      "[12]\tvalidation_0-rmse:43.88475\tvalidation_1-rmse:26.89028\n",
      "[13]\tvalidation_0-rmse:43.50196\tvalidation_1-rmse:26.63849\n",
      "[14]\tvalidation_0-rmse:43.12276\tvalidation_1-rmse:26.39042\n",
      "[15]\tvalidation_0-rmse:42.74710\tvalidation_1-rmse:26.14375\n",
      "[16]\tvalidation_0-rmse:42.37498\tvalidation_1-rmse:25.89964\n",
      "[17]\tvalidation_0-rmse:42.00634\tvalidation_1-rmse:25.65899\n",
      "[18]\tvalidation_0-rmse:41.64121\tvalidation_1-rmse:25.42008\n",
      "[19]\tvalidation_0-rmse:41.27946\tvalidation_1-rmse:25.18334\n",
      "[20]\tvalidation_0-rmse:40.92118\tvalidation_1-rmse:24.94923\n",
      "[21]\tvalidation_0-rmse:40.56627\tvalidation_1-rmse:24.71807\n",
      "[22]\tvalidation_0-rmse:40.21466\tvalidation_1-rmse:24.48877\n",
      "[23]\tvalidation_0-rmse:39.86643\tvalidation_1-rmse:24.26342\n",
      "[24]\tvalidation_0-rmse:39.52143\tvalidation_1-rmse:24.03936\n",
      "[25]\tvalidation_0-rmse:39.17972\tvalidation_1-rmse:23.81895\n",
      "[26]\tvalidation_0-rmse:38.84123\tvalidation_1-rmse:23.59878\n",
      "[27]\tvalidation_0-rmse:38.50589\tvalidation_1-rmse:23.38322\n",
      "[28]\tvalidation_0-rmse:38.17358\tvalidation_1-rmse:23.16952\n",
      "[29]\tvalidation_0-rmse:37.84466\tvalidation_1-rmse:22.95640\n",
      "[30]\tvalidation_0-rmse:37.51863\tvalidation_1-rmse:22.74858\n",
      "[31]\tvalidation_0-rmse:37.19589\tvalidation_1-rmse:22.54029\n",
      "[32]\tvalidation_0-rmse:36.87600\tvalidation_1-rmse:22.33515\n",
      "[33]\tvalidation_0-rmse:36.55924\tvalidation_1-rmse:22.13137\n",
      "[34]\tvalidation_0-rmse:36.24557\tvalidation_1-rmse:21.93067\n",
      "[35]\tvalidation_0-rmse:35.93465\tvalidation_1-rmse:21.72970\n",
      "[36]\tvalidation_0-rmse:35.62692\tvalidation_1-rmse:21.53437\n",
      "[37]\tvalidation_0-rmse:35.32185\tvalidation_1-rmse:21.33769\n",
      "[38]\tvalidation_0-rmse:35.01981\tvalidation_1-rmse:21.14481\n",
      "[39]\tvalidation_0-rmse:34.72069\tvalidation_1-rmse:20.95205\n",
      "[40]\tvalidation_0-rmse:34.42428\tvalidation_1-rmse:20.76348\n",
      "[41]\tvalidation_0-rmse:34.13077\tvalidation_1-rmse:20.57689\n",
      "[42]\tvalidation_0-rmse:33.84014\tvalidation_1-rmse:20.39070\n",
      "[43]\tvalidation_0-rmse:33.55224\tvalidation_1-rmse:20.20778\n",
      "[44]\tvalidation_0-rmse:33.26721\tvalidation_1-rmse:20.02700\n",
      "[45]\tvalidation_0-rmse:32.98473\tvalidation_1-rmse:19.84737\n",
      "[46]\tvalidation_0-rmse:32.70490\tvalidation_1-rmse:19.66928\n",
      "[47]\tvalidation_0-rmse:32.42789\tvalidation_1-rmse:19.49334\n",
      "[48]\tvalidation_0-rmse:32.15346\tvalidation_1-rmse:19.31877\n",
      "[49]\tvalidation_0-rmse:31.88165\tvalidation_1-rmse:19.14699\n",
      "[50]\tvalidation_0-rmse:31.61254\tvalidation_1-rmse:18.97785\n",
      "[51]\tvalidation_0-rmse:31.34590\tvalidation_1-rmse:18.81019\n",
      "[52]\tvalidation_0-rmse:31.08198\tvalidation_1-rmse:18.64409\n",
      "[53]\tvalidation_0-rmse:30.82046\tvalidation_1-rmse:18.47830\n",
      "[54]\tvalidation_0-rmse:30.56153\tvalidation_1-rmse:18.31630\n",
      "[55]\tvalidation_0-rmse:30.30503\tvalidation_1-rmse:18.15571\n",
      "[56]\tvalidation_0-rmse:30.05113\tvalidation_1-rmse:17.99673\n",
      "[57]\tvalidation_0-rmse:29.79958\tvalidation_1-rmse:17.83838\n",
      "[58]\tvalidation_0-rmse:29.55050\tvalidation_1-rmse:17.68382\n",
      "[59]\tvalidation_0-rmse:29.30382\tvalidation_1-rmse:17.52980\n",
      "[60]\tvalidation_0-rmse:29.05948\tvalidation_1-rmse:17.37692\n",
      "[61]\tvalidation_0-rmse:28.81760\tvalidation_1-rmse:17.22651\n",
      "[62]\tvalidation_0-rmse:28.57800\tvalidation_1-rmse:17.07899\n",
      "[63]\tvalidation_0-rmse:28.34082\tvalidation_1-rmse:16.93092\n",
      "[64]\tvalidation_0-rmse:28.10582\tvalidation_1-rmse:16.78568\n",
      "[65]\tvalidation_0-rmse:27.87319\tvalidation_1-rmse:16.64341\n",
      "[66]\tvalidation_0-rmse:27.64276\tvalidation_1-rmse:16.50081\n",
      "[67]\tvalidation_0-rmse:27.41457\tvalidation_1-rmse:16.36072\n",
      "[68]\tvalidation_0-rmse:27.18867\tvalidation_1-rmse:16.22403\n",
      "[69]\tvalidation_0-rmse:26.96493\tvalidation_1-rmse:16.08636\n",
      "[70]\tvalidation_0-rmse:26.74345\tvalidation_1-rmse:15.95196\n",
      "[71]\tvalidation_0-rmse:26.52405\tvalidation_1-rmse:15.81842\n",
      "[72]\tvalidation_0-rmse:26.30693\tvalidation_1-rmse:15.68706\n",
      "[73]\tvalidation_0-rmse:26.09183\tvalidation_1-rmse:15.55787\n",
      "[74]\tvalidation_0-rmse:25.87895\tvalidation_1-rmse:15.42790\n",
      "[75]\tvalidation_0-rmse:25.66809\tvalidation_1-rmse:15.30152\n",
      "[76]\tvalidation_0-rmse:25.45924\tvalidation_1-rmse:15.17738\n",
      "[77]\tvalidation_0-rmse:25.25244\tvalidation_1-rmse:15.05279\n",
      "[78]\tvalidation_0-rmse:25.04777\tvalidation_1-rmse:14.93058\n",
      "[79]\tvalidation_0-rmse:24.84508\tvalidation_1-rmse:14.80965\n",
      "[80]\tvalidation_0-rmse:24.64419\tvalidation_1-rmse:14.68896\n",
      "[81]\tvalidation_0-rmse:24.44548\tvalidation_1-rmse:14.57113\n",
      "[82]\tvalidation_0-rmse:24.24857\tvalidation_1-rmse:14.45495\n",
      "[83]\tvalidation_0-rmse:24.05380\tvalidation_1-rmse:14.33915\n",
      "[84]\tvalidation_0-rmse:23.86079\tvalidation_1-rmse:14.22561\n",
      "[85]\tvalidation_0-rmse:23.66970\tvalidation_1-rmse:14.11348\n",
      "[86]\tvalidation_0-rmse:23.48060\tvalidation_1-rmse:14.00339\n",
      "[87]\tvalidation_0-rmse:23.29325\tvalidation_1-rmse:13.89352\n",
      "[88]\tvalidation_0-rmse:23.10777\tvalidation_1-rmse:13.78523\n",
      "[89]\tvalidation_0-rmse:22.92435\tvalidation_1-rmse:13.67894\n",
      "[90]\tvalidation_0-rmse:22.74262\tvalidation_1-rmse:13.57287\n",
      "[91]\tvalidation_0-rmse:22.56273\tvalidation_1-rmse:13.46981\n",
      "[92]\tvalidation_0-rmse:22.38468\tvalidation_1-rmse:13.36891\n",
      "[93]\tvalidation_0-rmse:22.20838\tvalidation_1-rmse:13.26757\n",
      "[94]\tvalidation_0-rmse:22.03392\tvalidation_1-rmse:13.16832\n",
      "[95]\tvalidation_0-rmse:21.86108\tvalidation_1-rmse:13.06986\n",
      "[96]\tvalidation_0-rmse:21.69013\tvalidation_1-rmse:12.97216\n",
      "[97]\tvalidation_0-rmse:21.52083\tvalidation_1-rmse:12.87619\n",
      "[98]\tvalidation_0-rmse:21.35333\tvalidation_1-rmse:12.78331\n",
      "[99]\tvalidation_0-rmse:21.18747\tvalidation_1-rmse:12.68993\n",
      "[100]\tvalidation_0-rmse:21.02320\tvalidation_1-rmse:12.59703\n",
      "[101]\tvalidation_0-rmse:20.86073\tvalidation_1-rmse:12.50691\n",
      "[102]\tvalidation_0-rmse:20.69988\tvalidation_1-rmse:12.41907\n",
      "[103]\tvalidation_0-rmse:20.54065\tvalidation_1-rmse:12.32942\n",
      "[104]\tvalidation_0-rmse:20.38310\tvalidation_1-rmse:12.24201\n",
      "[105]\tvalidation_0-rmse:20.22718\tvalidation_1-rmse:12.15577\n",
      "[106]\tvalidation_0-rmse:20.07275\tvalidation_1-rmse:12.07054\n",
      "[107]\tvalidation_0-rmse:19.92003\tvalidation_1-rmse:11.98787\n",
      "[108]\tvalidation_0-rmse:19.76868\tvalidation_1-rmse:11.90644\n",
      "[109]\tvalidation_0-rmse:19.61895\tvalidation_1-rmse:11.82464\n",
      "[110]\tvalidation_0-rmse:19.47075\tvalidation_1-rmse:11.74358\n",
      "[111]\tvalidation_0-rmse:19.32412\tvalidation_1-rmse:11.66659\n",
      "[112]\tvalidation_0-rmse:19.17908\tvalidation_1-rmse:11.58933\n",
      "[113]\tvalidation_0-rmse:19.03543\tvalidation_1-rmse:11.51339\n",
      "[114]\tvalidation_0-rmse:18.89337\tvalidation_1-rmse:11.43901\n",
      "[115]\tvalidation_0-rmse:18.75280\tvalidation_1-rmse:11.36381\n",
      "[116]\tvalidation_0-rmse:18.61366\tvalidation_1-rmse:11.29077\n",
      "[117]\tvalidation_0-rmse:18.47600\tvalidation_1-rmse:11.21834\n",
      "[118]\tvalidation_0-rmse:18.33974\tvalidation_1-rmse:11.14738\n",
      "[119]\tvalidation_0-rmse:18.20481\tvalidation_1-rmse:11.07763\n",
      "[120]\tvalidation_0-rmse:18.07146\tvalidation_1-rmse:11.00914\n",
      "[121]\tvalidation_0-rmse:17.93949\tvalidation_1-rmse:10.94298\n",
      "[122]\tvalidation_0-rmse:17.80881\tvalidation_1-rmse:10.87623\n",
      "[123]\tvalidation_0-rmse:17.67955\tvalidation_1-rmse:10.81125\n",
      "[124]\tvalidation_0-rmse:17.55169\tvalidation_1-rmse:10.74635\n",
      "[125]\tvalidation_0-rmse:17.42506\tvalidation_1-rmse:10.68212\n",
      "[126]\tvalidation_0-rmse:17.29976\tvalidation_1-rmse:10.61929\n",
      "[127]\tvalidation_0-rmse:17.17573\tvalidation_1-rmse:10.55841\n",
      "[128]\tvalidation_0-rmse:17.05302\tvalidation_1-rmse:10.49773\n",
      "[129]\tvalidation_0-rmse:16.93181\tvalidation_1-rmse:10.43948\n",
      "[130]\tvalidation_0-rmse:16.81160\tvalidation_1-rmse:10.38124\n",
      "[131]\tvalidation_0-rmse:16.69299\tvalidation_1-rmse:10.32351\n",
      "[132]\tvalidation_0-rmse:16.57565\tvalidation_1-rmse:10.26654\n",
      "[133]\tvalidation_0-rmse:16.45935\tvalidation_1-rmse:10.20997\n",
      "[134]\tvalidation_0-rmse:16.34446\tvalidation_1-rmse:10.15587\n",
      "[135]\tvalidation_0-rmse:16.23067\tvalidation_1-rmse:10.10164\n",
      "[136]\tvalidation_0-rmse:16.11827\tvalidation_1-rmse:10.04874\n",
      "[137]\tvalidation_0-rmse:16.00688\tvalidation_1-rmse:9.99688\n",
      "[138]\tvalidation_0-rmse:15.89678\tvalidation_1-rmse:9.94471\n",
      "[139]\tvalidation_0-rmse:15.78801\tvalidation_1-rmse:9.89573\n",
      "[140]\tvalidation_0-rmse:15.68038\tvalidation_1-rmse:9.84594\n",
      "[141]\tvalidation_0-rmse:15.57388\tvalidation_1-rmse:9.79746\n",
      "[142]\tvalidation_0-rmse:15.46845\tvalidation_1-rmse:9.74900\n",
      "[143]\tvalidation_0-rmse:15.36412\tvalidation_1-rmse:9.70226\n",
      "[144]\tvalidation_0-rmse:15.26117\tvalidation_1-rmse:9.65570\n",
      "[145]\tvalidation_0-rmse:15.15933\tvalidation_1-rmse:9.61005\n",
      "[146]\tvalidation_0-rmse:15.05858\tvalidation_1-rmse:9.56546\n",
      "[147]\tvalidation_0-rmse:14.95895\tvalidation_1-rmse:9.52238\n",
      "[148]\tvalidation_0-rmse:14.86030\tvalidation_1-rmse:9.47925\n",
      "[149]\tvalidation_0-rmse:14.76296\tvalidation_1-rmse:9.43767\n",
      "[150]\tvalidation_0-rmse:14.66649\tvalidation_1-rmse:9.39620\n",
      "[151]\tvalidation_0-rmse:14.57124\tvalidation_1-rmse:9.35566\n",
      "[152]\tvalidation_0-rmse:14.47706\tvalidation_1-rmse:9.31580\n",
      "[153]\tvalidation_0-rmse:14.38401\tvalidation_1-rmse:9.27804\n",
      "[154]\tvalidation_0-rmse:14.29174\tvalidation_1-rmse:9.24023\n",
      "[155]\tvalidation_0-rmse:14.20070\tvalidation_1-rmse:9.20259\n",
      "[156]\tvalidation_0-rmse:14.11049\tvalidation_1-rmse:9.16703\n",
      "[157]\tvalidation_0-rmse:14.02152\tvalidation_1-rmse:9.13135\n",
      "[158]\tvalidation_0-rmse:13.93346\tvalidation_1-rmse:9.09586\n",
      "[159]\tvalidation_0-rmse:13.84642\tvalidation_1-rmse:9.06248\n",
      "[160]\tvalidation_0-rmse:13.76043\tvalidation_1-rmse:9.02903\n",
      "[161]\tvalidation_0-rmse:13.67526\tvalidation_1-rmse:8.99589\n",
      "[162]\tvalidation_0-rmse:13.59123\tvalidation_1-rmse:8.96425\n",
      "[163]\tvalidation_0-rmse:13.50793\tvalidation_1-rmse:8.93253\n",
      "[164]\tvalidation_0-rmse:13.42587\tvalidation_1-rmse:8.90176\n",
      "[165]\tvalidation_0-rmse:13.34453\tvalidation_1-rmse:8.87186\n",
      "[166]\tvalidation_0-rmse:13.26416\tvalidation_1-rmse:8.84220\n",
      "[167]\tvalidation_0-rmse:13.18478\tvalidation_1-rmse:8.81371\n",
      "[168]\tvalidation_0-rmse:13.10638\tvalidation_1-rmse:8.78576\n",
      "[169]\tvalidation_0-rmse:13.02871\tvalidation_1-rmse:8.75908\n",
      "[170]\tvalidation_0-rmse:12.95211\tvalidation_1-rmse:8.73236\n",
      "[171]\tvalidation_0-rmse:12.87623\tvalidation_1-rmse:8.70671\n",
      "[172]\tvalidation_0-rmse:12.80129\tvalidation_1-rmse:8.68119\n",
      "[173]\tvalidation_0-rmse:12.72724\tvalidation_1-rmse:8.65679\n",
      "[174]\tvalidation_0-rmse:12.65412\tvalidation_1-rmse:8.63294\n",
      "[175]\tvalidation_0-rmse:12.58199\tvalidation_1-rmse:8.60938\n",
      "[176]\tvalidation_0-rmse:12.51053\tvalidation_1-rmse:8.58678\n",
      "[177]\tvalidation_0-rmse:12.44002\tvalidation_1-rmse:8.56484\n",
      "[178]\tvalidation_0-rmse:12.37025\tvalidation_1-rmse:8.54282\n",
      "[179]\tvalidation_0-rmse:12.30128\tvalidation_1-rmse:8.52183\n",
      "[180]\tvalidation_0-rmse:12.23333\tvalidation_1-rmse:8.50080\n",
      "[181]\tvalidation_0-rmse:12.16602\tvalidation_1-rmse:8.48056\n",
      "[182]\tvalidation_0-rmse:12.09968\tvalidation_1-rmse:8.46067\n",
      "[183]\tvalidation_0-rmse:12.03404\tvalidation_1-rmse:8.44142\n",
      "[184]\tvalidation_0-rmse:11.96920\tvalidation_1-rmse:8.42247\n",
      "[185]\tvalidation_0-rmse:11.90524\tvalidation_1-rmse:8.40382\n",
      "[186]\tvalidation_0-rmse:11.84187\tvalidation_1-rmse:8.38565\n",
      "[187]\tvalidation_0-rmse:11.77931\tvalidation_1-rmse:8.36832\n",
      "[188]\tvalidation_0-rmse:11.71749\tvalidation_1-rmse:8.35126\n",
      "[189]\tvalidation_0-rmse:11.65660\tvalidation_1-rmse:8.33473\n",
      "[190]\tvalidation_0-rmse:11.59647\tvalidation_1-rmse:8.31873\n",
      "[191]\tvalidation_0-rmse:11.53685\tvalidation_1-rmse:8.30312\n",
      "[192]\tvalidation_0-rmse:11.47803\tvalidation_1-rmse:8.28771\n",
      "[193]\tvalidation_0-rmse:11.41995\tvalidation_1-rmse:8.27296\n",
      "[194]\tvalidation_0-rmse:11.36261\tvalidation_1-rmse:8.25854\n",
      "[195]\tvalidation_0-rmse:11.30611\tvalidation_1-rmse:8.24482\n",
      "[196]\tvalidation_0-rmse:11.25002\tvalidation_1-rmse:8.23105\n",
      "[197]\tvalidation_0-rmse:11.19484\tvalidation_1-rmse:8.21795\n",
      "[198]\tvalidation_0-rmse:11.14019\tvalidation_1-rmse:8.20518\n",
      "[199]\tvalidation_0-rmse:11.08610\tvalidation_1-rmse:8.19299\n",
      "[200]\tvalidation_0-rmse:11.03297\tvalidation_1-rmse:8.18104\n",
      "[201]\tvalidation_0-rmse:10.98028\tvalidation_1-rmse:8.16933\n",
      "[202]\tvalidation_0-rmse:10.92826\tvalidation_1-rmse:8.15769\n",
      "[203]\tvalidation_0-rmse:10.87687\tvalidation_1-rmse:8.14689\n",
      "[204]\tvalidation_0-rmse:10.82599\tvalidation_1-rmse:8.13641\n",
      "[205]\tvalidation_0-rmse:10.77602\tvalidation_1-rmse:8.12619\n",
      "[206]\tvalidation_0-rmse:10.72650\tvalidation_1-rmse:8.11600\n",
      "[207]\tvalidation_0-rmse:10.67774\tvalidation_1-rmse:8.10644\n",
      "[208]\tvalidation_0-rmse:10.62936\tvalidation_1-rmse:8.09746\n",
      "[209]\tvalidation_0-rmse:10.58199\tvalidation_1-rmse:8.08914\n",
      "[210]\tvalidation_0-rmse:10.53515\tvalidation_1-rmse:8.08088\n",
      "[211]\tvalidation_0-rmse:10.48867\tvalidation_1-rmse:8.07308\n",
      "[212]\tvalidation_0-rmse:10.44306\tvalidation_1-rmse:8.06496\n",
      "[213]\tvalidation_0-rmse:10.39783\tvalidation_1-rmse:8.05760\n",
      "[214]\tvalidation_0-rmse:10.35332\tvalidation_1-rmse:8.05032\n",
      "[215]\tvalidation_0-rmse:10.30907\tvalidation_1-rmse:8.04340\n",
      "[216]\tvalidation_0-rmse:10.26573\tvalidation_1-rmse:8.03682\n",
      "[217]\tvalidation_0-rmse:10.22285\tvalidation_1-rmse:8.03009\n",
      "[218]\tvalidation_0-rmse:10.18040\tvalidation_1-rmse:8.02391\n",
      "[219]\tvalidation_0-rmse:10.13856\tvalidation_1-rmse:8.01846\n",
      "[220]\tvalidation_0-rmse:10.09743\tvalidation_1-rmse:8.01291\n",
      "[221]\tvalidation_0-rmse:10.05653\tvalidation_1-rmse:8.00743\n",
      "[222]\tvalidation_0-rmse:10.01615\tvalidation_1-rmse:8.00232\n",
      "[223]\tvalidation_0-rmse:9.97671\tvalidation_1-rmse:7.99737\n",
      "[224]\tvalidation_0-rmse:9.93743\tvalidation_1-rmse:7.99289\n",
      "[225]\tvalidation_0-rmse:9.89890\tvalidation_1-rmse:7.98840\n",
      "[226]\tvalidation_0-rmse:9.86091\tvalidation_1-rmse:7.98427\n",
      "[227]\tvalidation_0-rmse:9.82325\tvalidation_1-rmse:7.98058\n",
      "[228]\tvalidation_0-rmse:9.78627\tvalidation_1-rmse:7.97651\n",
      "[229]\tvalidation_0-rmse:9.74983\tvalidation_1-rmse:7.97299\n",
      "[230]\tvalidation_0-rmse:9.71359\tvalidation_1-rmse:7.96960\n",
      "[231]\tvalidation_0-rmse:9.67803\tvalidation_1-rmse:7.96626\n",
      "[232]\tvalidation_0-rmse:9.64275\tvalidation_1-rmse:7.96327\n",
      "[233]\tvalidation_0-rmse:9.60815\tvalidation_1-rmse:7.96051\n",
      "[234]\tvalidation_0-rmse:9.57364\tvalidation_1-rmse:7.95803\n",
      "[235]\tvalidation_0-rmse:9.53998\tvalidation_1-rmse:7.95561\n",
      "[236]\tvalidation_0-rmse:9.50683\tvalidation_1-rmse:7.95356\n",
      "[237]\tvalidation_0-rmse:9.47393\tvalidation_1-rmse:7.95120\n",
      "[238]\tvalidation_0-rmse:9.44126\tvalidation_1-rmse:7.94923\n",
      "[239]\tvalidation_0-rmse:9.40950\tvalidation_1-rmse:7.94748\n",
      "[240]\tvalidation_0-rmse:9.37725\tvalidation_1-rmse:7.94576\n",
      "[241]\tvalidation_0-rmse:9.34602\tvalidation_1-rmse:7.94403\n",
      "[242]\tvalidation_0-rmse:9.31522\tvalidation_1-rmse:7.94242\n",
      "[243]\tvalidation_0-rmse:9.28425\tvalidation_1-rmse:7.94109\n",
      "[244]\tvalidation_0-rmse:9.25445\tvalidation_1-rmse:7.94039\n",
      "[245]\tvalidation_0-rmse:9.22432\tvalidation_1-rmse:7.93957\n",
      "[246]\tvalidation_0-rmse:9.19520\tvalidation_1-rmse:7.93874\n",
      "[247]\tvalidation_0-rmse:9.16585\tvalidation_1-rmse:7.93783\n",
      "[248]\tvalidation_0-rmse:9.13753\tvalidation_1-rmse:7.93729\n",
      "[249]\tvalidation_0-rmse:9.10908\tvalidation_1-rmse:7.93656\n",
      "[250]\tvalidation_0-rmse:9.08096\tvalidation_1-rmse:7.93613\n",
      "[251]\tvalidation_0-rmse:9.05394\tvalidation_1-rmse:7.93608\n",
      "[252]\tvalidation_0-rmse:9.02656\tvalidation_1-rmse:7.93552\n",
      "[253]\tvalidation_0-rmse:8.99972\tvalidation_1-rmse:7.93543\n",
      "[254]\tvalidation_0-rmse:8.97371\tvalidation_1-rmse:7.93532\n",
      "[255]\tvalidation_0-rmse:8.94731\tvalidation_1-rmse:7.93525\n",
      "[256]\tvalidation_0-rmse:8.92142\tvalidation_1-rmse:7.93536\n",
      "[257]\tvalidation_0-rmse:8.89596\tvalidation_1-rmse:7.93602\n",
      "[258]\tvalidation_0-rmse:8.87059\tvalidation_1-rmse:7.93637\n",
      "[259]\tvalidation_0-rmse:8.84572\tvalidation_1-rmse:7.93654\n",
      "[260]\tvalidation_0-rmse:8.82134\tvalidation_1-rmse:7.93760\n",
      "[261]\tvalidation_0-rmse:8.79720\tvalidation_1-rmse:7.93830\n",
      "[262]\tvalidation_0-rmse:8.77342\tvalidation_1-rmse:7.93904\n",
      "[263]\tvalidation_0-rmse:8.75001\tvalidation_1-rmse:7.93993\n",
      "[264]\tvalidation_0-rmse:8.72685\tvalidation_1-rmse:7.94077\n"
     ]
    },
    {
     "data": {
      "text/html": [
       "<style>#sk-container-id-18 {color: black;background-color: white;}#sk-container-id-18 pre{padding: 0;}#sk-container-id-18 div.sk-toggleable {background-color: white;}#sk-container-id-18 label.sk-toggleable__label {cursor: pointer;display: block;width: 100%;margin-bottom: 0;padding: 0.3em;box-sizing: border-box;text-align: center;}#sk-container-id-18 label.sk-toggleable__label-arrow:before {content: \"▸\";float: left;margin-right: 0.25em;color: #696969;}#sk-container-id-18 label.sk-toggleable__label-arrow:hover:before {color: black;}#sk-container-id-18 div.sk-estimator:hover label.sk-toggleable__label-arrow:before {color: black;}#sk-container-id-18 div.sk-toggleable__content {max-height: 0;max-width: 0;overflow: hidden;text-align: left;background-color: #f0f8ff;}#sk-container-id-18 div.sk-toggleable__content pre {margin: 0.2em;color: black;border-radius: 0.25em;background-color: #f0f8ff;}#sk-container-id-18 input.sk-toggleable__control:checked~div.sk-toggleable__content {max-height: 200px;max-width: 100%;overflow: auto;}#sk-container-id-18 input.sk-toggleable__control:checked~label.sk-toggleable__label-arrow:before {content: \"▾\";}#sk-container-id-18 div.sk-estimator input.sk-toggleable__control:checked~label.sk-toggleable__label {background-color: #d4ebff;}#sk-container-id-18 div.sk-label input.sk-toggleable__control:checked~label.sk-toggleable__label {background-color: #d4ebff;}#sk-container-id-18 input.sk-hidden--visually {border: 0;clip: rect(1px 1px 1px 1px);clip: rect(1px, 1px, 1px, 1px);height: 1px;margin: -1px;overflow: hidden;padding: 0;position: absolute;width: 1px;}#sk-container-id-18 div.sk-estimator {font-family: monospace;background-color: #f0f8ff;border: 1px dotted black;border-radius: 0.25em;box-sizing: border-box;margin-bottom: 0.5em;}#sk-container-id-18 div.sk-estimator:hover {background-color: #d4ebff;}#sk-container-id-18 div.sk-parallel-item::after {content: \"\";width: 100%;border-bottom: 1px solid gray;flex-grow: 1;}#sk-container-id-18 div.sk-label:hover label.sk-toggleable__label {background-color: #d4ebff;}#sk-container-id-18 div.sk-serial::before {content: \"\";position: absolute;border-left: 1px solid gray;box-sizing: border-box;top: 0;bottom: 0;left: 50%;z-index: 0;}#sk-container-id-18 div.sk-serial {display: flex;flex-direction: column;align-items: center;background-color: white;padding-right: 0.2em;padding-left: 0.2em;position: relative;}#sk-container-id-18 div.sk-item {position: relative;z-index: 1;}#sk-container-id-18 div.sk-parallel {display: flex;align-items: stretch;justify-content: center;background-color: white;position: relative;}#sk-container-id-18 div.sk-item::before, #sk-container-id-18 div.sk-parallel-item::before {content: \"\";position: absolute;border-left: 1px solid gray;box-sizing: border-box;top: 0;bottom: 0;left: 50%;z-index: -1;}#sk-container-id-18 div.sk-parallel-item {display: flex;flex-direction: column;z-index: 1;position: relative;background-color: white;}#sk-container-id-18 div.sk-parallel-item:first-child::after {align-self: flex-end;width: 50%;}#sk-container-id-18 div.sk-parallel-item:last-child::after {align-self: flex-start;width: 50%;}#sk-container-id-18 div.sk-parallel-item:only-child::after {width: 0;}#sk-container-id-18 div.sk-dashed-wrapped {border: 1px dashed gray;margin: 0 0.4em 0.5em 0.4em;box-sizing: border-box;padding-bottom: 0.4em;background-color: white;}#sk-container-id-18 div.sk-label label {font-family: monospace;font-weight: bold;display: inline-block;line-height: 1.2em;}#sk-container-id-18 div.sk-label-container {text-align: center;}#sk-container-id-18 div.sk-container {/* jupyter's `normalize.less` sets `[hidden] { display: none; }` but bootstrap.min.css set `[hidden] { display: none !important; }` so we also need the `!important` here to be able to override the default hidden behavior on the sphinx rendered scikit-learn.org. See: https://github.com/scikit-learn/scikit-learn/issues/21755 */display: inline-block !important;position: relative;}#sk-container-id-18 div.sk-text-repr-fallback {display: none;}</style><div id=\"sk-container-id-18\" class=\"sk-top-container\"><div class=\"sk-text-repr-fallback\"><pre>XGBRegressor(base_score=0.5, booster=&#x27;gbtree&#x27;, callbacks=None,\n",
       "             colsample_bylevel=None, colsample_bynode=None,\n",
       "             colsample_bytree=None, device=None, early_stopping_rounds=10,\n",
       "             enable_categorical=True, eval_metric=None, feature_types=None,\n",
       "             gamma=None, grow_policy=None, importance_type=None,\n",
       "             interaction_constraints=None, learning_rate=0.0091, max_bin=None,\n",
       "             max_cat_threshold=None, max_cat_to_onehot=None,\n",
       "             max_delta_step=None, max_depth=11, max_leaves=None,\n",
       "             min_child_weight=None, missing=nan, monotone_constraints=None,\n",
       "             multi_strategy=None, n_estimators=346, n_jobs=None,\n",
       "             num_parallel_tree=None, random_state=None, ...)</pre><b>In a Jupyter environment, please rerun this cell to show the HTML representation or trust the notebook. <br />On GitHub, the HTML representation is unable to render, please try loading this page with nbviewer.org.</b></div><div class=\"sk-container\" hidden><div class=\"sk-item\"><div class=\"sk-estimator sk-toggleable\"><input class=\"sk-toggleable__control sk-hidden--visually\" id=\"sk-estimator-id-18\" type=\"checkbox\" checked><label for=\"sk-estimator-id-18\" class=\"sk-toggleable__label sk-toggleable__label-arrow\">XGBRegressor</label><div class=\"sk-toggleable__content\"><pre>XGBRegressor(base_score=0.5, booster=&#x27;gbtree&#x27;, callbacks=None,\n",
       "             colsample_bylevel=None, colsample_bynode=None,\n",
       "             colsample_bytree=None, device=None, early_stopping_rounds=10,\n",
       "             enable_categorical=True, eval_metric=None, feature_types=None,\n",
       "             gamma=None, grow_policy=None, importance_type=None,\n",
       "             interaction_constraints=None, learning_rate=0.0091, max_bin=None,\n",
       "             max_cat_threshold=None, max_cat_to_onehot=None,\n",
       "             max_delta_step=None, max_depth=11, max_leaves=None,\n",
       "             min_child_weight=None, missing=nan, monotone_constraints=None,\n",
       "             multi_strategy=None, n_estimators=346, n_jobs=None,\n",
       "             num_parallel_tree=None, random_state=None, ...)</pre></div></div></div></div></div>"
      ],
      "text/plain": [
       "XGBRegressor(base_score=0.5, booster='gbtree', callbacks=None,\n",
       "             colsample_bylevel=None, colsample_bynode=None,\n",
       "             colsample_bytree=None, device=None, early_stopping_rounds=10,\n",
       "             enable_categorical=True, eval_metric=None, feature_types=None,\n",
       "             gamma=None, grow_policy=None, importance_type=None,\n",
       "             interaction_constraints=None, learning_rate=0.0091, max_bin=None,\n",
       "             max_cat_threshold=None, max_cat_to_onehot=None,\n",
       "             max_delta_step=None, max_depth=11, max_leaves=None,\n",
       "             min_child_weight=None, missing=nan, monotone_constraints=None,\n",
       "             multi_strategy=None, n_estimators=346, n_jobs=None,\n",
       "             num_parallel_tree=None, random_state=None, ...)"
      ]
     },
     "execution_count": 183,
     "metadata": {},
     "output_type": "execute_result"
    }
   ],
   "source": [
    "if req_data['city'] == 'New_York':\n",
    "  model = XGBRegressor( base_score=0.5, booster= 'gbtree',objective='reg:squarederror',\n",
    "                            n_estimators=346,\n",
    "                        early_stopping_rounds=10,\n",
    "                          max_leaves=30,\n",
    "                          learning_rate = 0.01, enable_categorical=True)  \n",
    "if req_data['city'] == 'Chicago':\n",
    "  model =  XGBRegressor( base_score=0.5, booster= 'gbtree',objective='reg:squarederror',\n",
    "                            n_estimators=346,\n",
    "                        early_stopping_rounds=10,\n",
    "                          max_depth=11,\n",
    "                          learning_rate =0.0091, enable_categorical=True)\n",
    "# pipe = Pipeline([(\"xgb\", model)])\n",
    "# pipe.fit(X_train, y_train, xgb__eval_set=[(X_train, y_train), (X_test, y_test)],\n",
    "#             xgb__verbose=False)\n",
    "# Train the model\n",
    "model.fit(X_train, y_train,\n",
    "          eval_set=[(X_train, y_train), (X_test, y_test)],\n",
    "            verbose=True)"
   ]
  },
  {
   "cell_type": "code",
   "execution_count": 184,
   "metadata": {},
   "outputs": [
    {
     "data": {
      "text/plain": [
       "0.6179944730647522"
      ]
     },
     "execution_count": 184,
     "metadata": {},
     "output_type": "execute_result"
    }
   ],
   "source": [
    "model.score(X_test, y_test)"
   ]
  },
  {
   "cell_type": "code",
   "execution_count": 185,
   "metadata": {},
   "outputs": [
    {
     "data": {
      "text/plain": [
       "array([[   0,    0,    1,    1, 2001,    1,    1,    1,    3,    1],\n",
       "       [   1,    0,    1,    1, 2001,    1,    1,    1,    3,    1],\n",
       "       [   2,    0,    1,    1, 2001,    1,    1,    1,    3,    1],\n",
       "       [   3,    0,    1,    1, 2001,    1,    1,    1,    3,    1],\n",
       "       [   4,    0,    1,    1, 2001,    1,    1,    1,    3,    1]])"
      ]
     },
     "execution_count": 185,
     "metadata": {},
     "output_type": "execute_result"
    }
   ],
   "source": [
    "X_train[:5].values.astype(np.int32)"
   ]
  },
  {
   "cell_type": "code",
   "execution_count": 186,
   "metadata": {},
   "outputs": [
    {
     "data": {
      "text/plain": [
       "array([27.430922, 21.489073, 25.461348, 12.248466, 10.486635],\n",
       "      dtype=float32)"
      ]
     },
     "execution_count": 186,
     "metadata": {},
     "output_type": "execute_result"
    }
   ],
   "source": [
    "model.predict(X_test[:5].values.astype(np.float32))"
   ]
  },
  {
   "cell_type": "code",
   "execution_count": 187,
   "metadata": {},
   "outputs": [
    {
     "name": "stdout",
     "output_type": "stream",
     "text": [
      "[to_onnx] initial_types=[('float_input', FloatTensorType(shape=[None, 10]))]\n",
      "[convert_sklearn] parse_sklearn_model\n",
      "[convert_sklearn] convert_topology\n",
      "[convert_operators] begin\n",
      "[convert_operators] iteration 1 - n_vars=0 n_ops=1\n",
      "[call_converter] call converter for 'XGBoostXGBRegressor'.\n",
      "[convert_operators] end iter: 1 - n_vars=2\n",
      "[convert_operators] iteration 2 - n_vars=2 n_ops=1\n",
      "[convert_operators] end iter: 2 - n_vars=2\n",
      "[convert_operators] end.\n",
      "[_update_domain_version] +opset 0: name='ai.onnx.ml', version=1\n",
      "[convert_topology] +opset: name='', version=12\n",
      "[convert_sklearn] end\n"
     ]
    }
   ],
   "source": [
    "initial_type = [('float_input', FloatTensorType([None, X_train.shape[1]]))]\n",
    "\n",
    "onx = to_onnx(model, initial_types=initial_type, verbose=True, target_opset={\"\": 12, \"ai.onnx.ml\": 2})"
   ]
  },
  {
   "cell_type": "code",
   "execution_count": 188,
   "metadata": {},
   "outputs": [
    {
     "name": "stdout",
     "output_type": "stream",
     "text": [
      "Feature names: ['float_input']\n"
     ]
    }
   ],
   "source": [
    "feature_names = [input.name for input in onx.graph.input]\n",
    "print(\"Feature names:\", feature_names)"
   ]
  },
  {
   "cell_type": "code",
   "execution_count": 189,
   "metadata": {},
   "outputs": [
    {
     "name": "stdout",
     "output_type": "stream",
     "text": [
      "predict [27.430922 21.489073 25.461346 12.248466 10.486633]\n"
     ]
    }
   ],
   "source": [
    "import onnxruntime as rt\n",
    "sess = rt.InferenceSession(onx.SerializeToString(), providers=[\"CPUExecutionProvider\"])\n",
    "input_name = sess.get_inputs()[0].name\n",
    "pred_onx = sess.run(None, {input_name: X_test[:5].values.astype(np.float32)})\n",
    "print(\"predict\", pred_onx[0].ravel())"
   ]
  },
  {
   "cell_type": "code",
   "execution_count": 190,
   "metadata": {},
   "outputs": [],
   "source": [
    "with open(f\"Onnx Models/{req_data['city']}_XGBoost.onnx\", \"wb\") as f:\n",
    "    f.write(onx.SerializeToString())"
   ]
  },
  {
   "cell_type": "code",
   "execution_count": 42,
   "metadata": {},
   "outputs": [
    {
     "name": "stdout",
     "output_type": "stream",
     "text": [
      "predict [27.430922 21.489073 25.461346 12.248466 10.486633]\n"
     ]
    }
   ],
   "source": [
    "import onnxruntime as rt\n",
    "sess = rt.InferenceSession(onx.SerializeToString(), providers=[\"CPUExecutionProvider\"])\n",
    "input_name = sess.get_inputs()[0].name\n",
    "pred_onx = sess.run(None, {input_name: X_test[:5].values.astype(np.float32)})\n",
    "print(\"predict\", pred_onx[0].ravel())"
   ]
  },
  {
   "cell_type": "code",
   "execution_count": 43,
   "metadata": {},
   "outputs": [
    {
     "name": "stdout",
     "output_type": "stream",
     "text": [
      "predict  [ 27.43093   21.489077  25.461342 ...  29.809853  23.666615 336.1273  ]\n"
     ]
    }
   ],
   "source": [
    "onnx_model = onnx.load(f\"Onnx Models/{req_data['city']}_{req_data['model']}.onnx\")\n",
    "sess = rt.InferenceSession(onnx_model.SerializeToString(), providers=[\"CPUExecutionProvider\"])\n",
    "input_name = sess.get_inputs()[0].name\n",
    "pred_onx = sess.run(None, {input_name: X_test.values.astype(np.float32)})\n",
    "print(\"predict \", pred_onx[0].ravel())"
   ]
  },
  {
   "cell_type": "markdown",
   "metadata": {},
   "source": [
    "Conversion of LightGBM"
   ]
  },
  {
   "cell_type": "code",
   "execution_count": 191,
   "metadata": {},
   "outputs": [],
   "source": [
    "from lightgbm import LGBMRegressor\n",
    "from skl2onnx.common.shape_calculator import (\n",
    "    calculate_linear_regressor_output_shapes,\n",
    ")  # noqa\n",
    "from onnxmltools import __version__ as oml_version\n",
    "from onnxmltools.convert.lightgbm.operator_converters.LightGbm import (\n",
    "    convert_lightgbm,\n",
    ")  # noqa"
   ]
  },
  {
   "cell_type": "code",
   "execution_count": 192,
   "metadata": {},
   "outputs": [
    {
     "data": {
      "text/html": [
       "<style>#sk-container-id-19 {color: black;background-color: white;}#sk-container-id-19 pre{padding: 0;}#sk-container-id-19 div.sk-toggleable {background-color: white;}#sk-container-id-19 label.sk-toggleable__label {cursor: pointer;display: block;width: 100%;margin-bottom: 0;padding: 0.3em;box-sizing: border-box;text-align: center;}#sk-container-id-19 label.sk-toggleable__label-arrow:before {content: \"▸\";float: left;margin-right: 0.25em;color: #696969;}#sk-container-id-19 label.sk-toggleable__label-arrow:hover:before {color: black;}#sk-container-id-19 div.sk-estimator:hover label.sk-toggleable__label-arrow:before {color: black;}#sk-container-id-19 div.sk-toggleable__content {max-height: 0;max-width: 0;overflow: hidden;text-align: left;background-color: #f0f8ff;}#sk-container-id-19 div.sk-toggleable__content pre {margin: 0.2em;color: black;border-radius: 0.25em;background-color: #f0f8ff;}#sk-container-id-19 input.sk-toggleable__control:checked~div.sk-toggleable__content {max-height: 200px;max-width: 100%;overflow: auto;}#sk-container-id-19 input.sk-toggleable__control:checked~label.sk-toggleable__label-arrow:before {content: \"▾\";}#sk-container-id-19 div.sk-estimator input.sk-toggleable__control:checked~label.sk-toggleable__label {background-color: #d4ebff;}#sk-container-id-19 div.sk-label input.sk-toggleable__control:checked~label.sk-toggleable__label {background-color: #d4ebff;}#sk-container-id-19 input.sk-hidden--visually {border: 0;clip: rect(1px 1px 1px 1px);clip: rect(1px, 1px, 1px, 1px);height: 1px;margin: -1px;overflow: hidden;padding: 0;position: absolute;width: 1px;}#sk-container-id-19 div.sk-estimator {font-family: monospace;background-color: #f0f8ff;border: 1px dotted black;border-radius: 0.25em;box-sizing: border-box;margin-bottom: 0.5em;}#sk-container-id-19 div.sk-estimator:hover {background-color: #d4ebff;}#sk-container-id-19 div.sk-parallel-item::after {content: \"\";width: 100%;border-bottom: 1px solid gray;flex-grow: 1;}#sk-container-id-19 div.sk-label:hover label.sk-toggleable__label {background-color: #d4ebff;}#sk-container-id-19 div.sk-serial::before {content: \"\";position: absolute;border-left: 1px solid gray;box-sizing: border-box;top: 0;bottom: 0;left: 50%;z-index: 0;}#sk-container-id-19 div.sk-serial {display: flex;flex-direction: column;align-items: center;background-color: white;padding-right: 0.2em;padding-left: 0.2em;position: relative;}#sk-container-id-19 div.sk-item {position: relative;z-index: 1;}#sk-container-id-19 div.sk-parallel {display: flex;align-items: stretch;justify-content: center;background-color: white;position: relative;}#sk-container-id-19 div.sk-item::before, #sk-container-id-19 div.sk-parallel-item::before {content: \"\";position: absolute;border-left: 1px solid gray;box-sizing: border-box;top: 0;bottom: 0;left: 50%;z-index: -1;}#sk-container-id-19 div.sk-parallel-item {display: flex;flex-direction: column;z-index: 1;position: relative;background-color: white;}#sk-container-id-19 div.sk-parallel-item:first-child::after {align-self: flex-end;width: 50%;}#sk-container-id-19 div.sk-parallel-item:last-child::after {align-self: flex-start;width: 50%;}#sk-container-id-19 div.sk-parallel-item:only-child::after {width: 0;}#sk-container-id-19 div.sk-dashed-wrapped {border: 1px dashed gray;margin: 0 0.4em 0.5em 0.4em;box-sizing: border-box;padding-bottom: 0.4em;background-color: white;}#sk-container-id-19 div.sk-label label {font-family: monospace;font-weight: bold;display: inline-block;line-height: 1.2em;}#sk-container-id-19 div.sk-label-container {text-align: center;}#sk-container-id-19 div.sk-container {/* jupyter's `normalize.less` sets `[hidden] { display: none; }` but bootstrap.min.css set `[hidden] { display: none !important; }` so we also need the `!important` here to be able to override the default hidden behavior on the sphinx rendered scikit-learn.org. See: https://github.com/scikit-learn/scikit-learn/issues/21755 */display: inline-block !important;position: relative;}#sk-container-id-19 div.sk-text-repr-fallback {display: none;}</style><div id=\"sk-container-id-19\" class=\"sk-top-container\"><div class=\"sk-text-repr-fallback\"><pre>LGBMRegressor(force_col_wise=True, learning_rate=0.01, max_depth=14,\n",
       "              n_estimators=400, num_leaves=150, verbose=-1)</pre><b>In a Jupyter environment, please rerun this cell to show the HTML representation or trust the notebook. <br />On GitHub, the HTML representation is unable to render, please try loading this page with nbviewer.org.</b></div><div class=\"sk-container\" hidden><div class=\"sk-item\"><div class=\"sk-estimator sk-toggleable\"><input class=\"sk-toggleable__control sk-hidden--visually\" id=\"sk-estimator-id-19\" type=\"checkbox\" checked><label for=\"sk-estimator-id-19\" class=\"sk-toggleable__label sk-toggleable__label-arrow\">LGBMRegressor</label><div class=\"sk-toggleable__content\"><pre>LGBMRegressor(force_col_wise=True, learning_rate=0.01, max_depth=14,\n",
       "              n_estimators=400, num_leaves=150, verbose=-1)</pre></div></div></div></div></div>"
      ],
      "text/plain": [
       "LGBMRegressor(force_col_wise=True, learning_rate=0.01, max_depth=14,\n",
       "              n_estimators=400, num_leaves=150, verbose=-1)"
      ]
     },
     "execution_count": 192,
     "metadata": {},
     "output_type": "execute_result"
    }
   ],
   "source": [
    "if req_data['city'] == 'New_York':\n",
    "    model = LGBMRegressor(force_col_wise=True, n_estimators=240, early_stopping_rounds=10,\n",
    "                     max_depth=15, learning_rate =0.01, num_leaves=30, verbose=-1)\n",
    "                            \n",
    "if req_data['city'] == 'Chicago':\n",
    "     model = LGBMRegressor(force_col_wise=True, n_estimators=400,\n",
    "                          max_depth=14,\n",
    "                          learning_rate =0.01, num_leaves=150, verbose=-1)\n",
    "np.random.seed(0)\n",
    "model.fit(X_train, y_train, eval_metric='rmse', eval_set=[(X_train, y_train)])\n",
    "      "
   ]
  },
  {
   "cell_type": "code",
   "execution_count": 111,
   "metadata": {},
   "outputs": [
    {
     "data": {
      "text/html": [
       "<div>\n",
       "<style scoped>\n",
       "    .dataframe tbody tr th:only-of-type {\n",
       "        vertical-align: middle;\n",
       "    }\n",
       "\n",
       "    .dataframe tbody tr th {\n",
       "        vertical-align: top;\n",
       "    }\n",
       "\n",
       "    .dataframe thead th {\n",
       "        text-align: right;\n",
       "    }\n",
       "</style>\n",
       "<table border=\"1\" class=\"dataframe\">\n",
       "  <thead>\n",
       "    <tr style=\"text-align: right;\">\n",
       "      <th></th>\n",
       "      <th>f0</th>\n",
       "      <th>f1</th>\n",
       "      <th>f2</th>\n",
       "      <th>f3</th>\n",
       "      <th>f4</th>\n",
       "      <th>f5</th>\n",
       "      <th>f6</th>\n",
       "      <th>f7</th>\n",
       "      <th>f8</th>\n",
       "      <th>f9</th>\n",
       "    </tr>\n",
       "    <tr>\n",
       "      <th>date</th>\n",
       "      <th></th>\n",
       "      <th></th>\n",
       "      <th></th>\n",
       "      <th></th>\n",
       "      <th></th>\n",
       "      <th></th>\n",
       "      <th></th>\n",
       "      <th></th>\n",
       "      <th></th>\n",
       "      <th></th>\n",
       "    </tr>\n",
       "  </thead>\n",
       "  <tbody>\n",
       "    <tr>\n",
       "      <th>2023-12-31 04:00:00</th>\n",
       "      <td>4</td>\n",
       "      <td>6</td>\n",
       "      <td>4</td>\n",
       "      <td>12</td>\n",
       "      <td>2023</td>\n",
       "      <td>365</td>\n",
       "      <td>31</td>\n",
       "      <td>52</td>\n",
       "      <td>3</td>\n",
       "      <td>0</td>\n",
       "    </tr>\n",
       "    <tr>\n",
       "      <th>2023-12-31 05:00:00</th>\n",
       "      <td>5</td>\n",
       "      <td>6</td>\n",
       "      <td>4</td>\n",
       "      <td>12</td>\n",
       "      <td>2023</td>\n",
       "      <td>365</td>\n",
       "      <td>31</td>\n",
       "      <td>52</td>\n",
       "      <td>3</td>\n",
       "      <td>0</td>\n",
       "    </tr>\n",
       "    <tr>\n",
       "      <th>2023-12-31 06:00:00</th>\n",
       "      <td>6</td>\n",
       "      <td>6</td>\n",
       "      <td>4</td>\n",
       "      <td>12</td>\n",
       "      <td>2023</td>\n",
       "      <td>365</td>\n",
       "      <td>31</td>\n",
       "      <td>52</td>\n",
       "      <td>3</td>\n",
       "      <td>0</td>\n",
       "    </tr>\n",
       "    <tr>\n",
       "      <th>2023-12-31 07:00:00</th>\n",
       "      <td>7</td>\n",
       "      <td>6</td>\n",
       "      <td>4</td>\n",
       "      <td>12</td>\n",
       "      <td>2023</td>\n",
       "      <td>365</td>\n",
       "      <td>31</td>\n",
       "      <td>52</td>\n",
       "      <td>3</td>\n",
       "      <td>0</td>\n",
       "    </tr>\n",
       "    <tr>\n",
       "      <th>2023-12-31 08:00:00</th>\n",
       "      <td>8</td>\n",
       "      <td>6</td>\n",
       "      <td>4</td>\n",
       "      <td>12</td>\n",
       "      <td>2023</td>\n",
       "      <td>365</td>\n",
       "      <td>31</td>\n",
       "      <td>52</td>\n",
       "      <td>3</td>\n",
       "      <td>0</td>\n",
       "    </tr>\n",
       "    <tr>\n",
       "      <th>2023-12-31 09:00:00</th>\n",
       "      <td>9</td>\n",
       "      <td>6</td>\n",
       "      <td>4</td>\n",
       "      <td>12</td>\n",
       "      <td>2023</td>\n",
       "      <td>365</td>\n",
       "      <td>31</td>\n",
       "      <td>52</td>\n",
       "      <td>3</td>\n",
       "      <td>0</td>\n",
       "    </tr>\n",
       "    <tr>\n",
       "      <th>2023-12-31 10:00:00</th>\n",
       "      <td>10</td>\n",
       "      <td>6</td>\n",
       "      <td>4</td>\n",
       "      <td>12</td>\n",
       "      <td>2023</td>\n",
       "      <td>365</td>\n",
       "      <td>31</td>\n",
       "      <td>52</td>\n",
       "      <td>3</td>\n",
       "      <td>0</td>\n",
       "    </tr>\n",
       "    <tr>\n",
       "      <th>2023-12-31 11:00:00</th>\n",
       "      <td>11</td>\n",
       "      <td>6</td>\n",
       "      <td>4</td>\n",
       "      <td>12</td>\n",
       "      <td>2023</td>\n",
       "      <td>365</td>\n",
       "      <td>31</td>\n",
       "      <td>52</td>\n",
       "      <td>3</td>\n",
       "      <td>0</td>\n",
       "    </tr>\n",
       "    <tr>\n",
       "      <th>2023-12-31 12:00:00</th>\n",
       "      <td>12</td>\n",
       "      <td>6</td>\n",
       "      <td>4</td>\n",
       "      <td>12</td>\n",
       "      <td>2023</td>\n",
       "      <td>365</td>\n",
       "      <td>31</td>\n",
       "      <td>52</td>\n",
       "      <td>3</td>\n",
       "      <td>0</td>\n",
       "    </tr>\n",
       "    <tr>\n",
       "      <th>2023-12-31 13:00:00</th>\n",
       "      <td>13</td>\n",
       "      <td>6</td>\n",
       "      <td>4</td>\n",
       "      <td>12</td>\n",
       "      <td>2023</td>\n",
       "      <td>365</td>\n",
       "      <td>31</td>\n",
       "      <td>52</td>\n",
       "      <td>3</td>\n",
       "      <td>0</td>\n",
       "    </tr>\n",
       "    <tr>\n",
       "      <th>2023-12-31 14:00:00</th>\n",
       "      <td>14</td>\n",
       "      <td>6</td>\n",
       "      <td>4</td>\n",
       "      <td>12</td>\n",
       "      <td>2023</td>\n",
       "      <td>365</td>\n",
       "      <td>31</td>\n",
       "      <td>52</td>\n",
       "      <td>3</td>\n",
       "      <td>0</td>\n",
       "    </tr>\n",
       "    <tr>\n",
       "      <th>2023-12-31 15:00:00</th>\n",
       "      <td>15</td>\n",
       "      <td>6</td>\n",
       "      <td>4</td>\n",
       "      <td>12</td>\n",
       "      <td>2023</td>\n",
       "      <td>365</td>\n",
       "      <td>31</td>\n",
       "      <td>52</td>\n",
       "      <td>3</td>\n",
       "      <td>0</td>\n",
       "    </tr>\n",
       "    <tr>\n",
       "      <th>2023-12-31 16:00:00</th>\n",
       "      <td>16</td>\n",
       "      <td>6</td>\n",
       "      <td>4</td>\n",
       "      <td>12</td>\n",
       "      <td>2023</td>\n",
       "      <td>365</td>\n",
       "      <td>31</td>\n",
       "      <td>52</td>\n",
       "      <td>3</td>\n",
       "      <td>0</td>\n",
       "    </tr>\n",
       "    <tr>\n",
       "      <th>2023-12-31 17:00:00</th>\n",
       "      <td>17</td>\n",
       "      <td>6</td>\n",
       "      <td>4</td>\n",
       "      <td>12</td>\n",
       "      <td>2023</td>\n",
       "      <td>365</td>\n",
       "      <td>31</td>\n",
       "      <td>52</td>\n",
       "      <td>3</td>\n",
       "      <td>0</td>\n",
       "    </tr>\n",
       "    <tr>\n",
       "      <th>2023-12-31 18:00:00</th>\n",
       "      <td>18</td>\n",
       "      <td>6</td>\n",
       "      <td>4</td>\n",
       "      <td>12</td>\n",
       "      <td>2023</td>\n",
       "      <td>365</td>\n",
       "      <td>31</td>\n",
       "      <td>52</td>\n",
       "      <td>3</td>\n",
       "      <td>0</td>\n",
       "    </tr>\n",
       "    <tr>\n",
       "      <th>2023-12-31 19:00:00</th>\n",
       "      <td>19</td>\n",
       "      <td>6</td>\n",
       "      <td>4</td>\n",
       "      <td>12</td>\n",
       "      <td>2023</td>\n",
       "      <td>365</td>\n",
       "      <td>31</td>\n",
       "      <td>52</td>\n",
       "      <td>3</td>\n",
       "      <td>0</td>\n",
       "    </tr>\n",
       "    <tr>\n",
       "      <th>2023-12-31 20:00:00</th>\n",
       "      <td>20</td>\n",
       "      <td>6</td>\n",
       "      <td>4</td>\n",
       "      <td>12</td>\n",
       "      <td>2023</td>\n",
       "      <td>365</td>\n",
       "      <td>31</td>\n",
       "      <td>52</td>\n",
       "      <td>3</td>\n",
       "      <td>0</td>\n",
       "    </tr>\n",
       "    <tr>\n",
       "      <th>2023-12-31 21:00:00</th>\n",
       "      <td>21</td>\n",
       "      <td>6</td>\n",
       "      <td>4</td>\n",
       "      <td>12</td>\n",
       "      <td>2023</td>\n",
       "      <td>365</td>\n",
       "      <td>31</td>\n",
       "      <td>52</td>\n",
       "      <td>3</td>\n",
       "      <td>0</td>\n",
       "    </tr>\n",
       "    <tr>\n",
       "      <th>2023-12-31 22:00:00</th>\n",
       "      <td>22</td>\n",
       "      <td>6</td>\n",
       "      <td>4</td>\n",
       "      <td>12</td>\n",
       "      <td>2023</td>\n",
       "      <td>365</td>\n",
       "      <td>31</td>\n",
       "      <td>52</td>\n",
       "      <td>3</td>\n",
       "      <td>0</td>\n",
       "    </tr>\n",
       "    <tr>\n",
       "      <th>2023-12-31 23:00:00</th>\n",
       "      <td>23</td>\n",
       "      <td>6</td>\n",
       "      <td>4</td>\n",
       "      <td>12</td>\n",
       "      <td>2023</td>\n",
       "      <td>365</td>\n",
       "      <td>31</td>\n",
       "      <td>52</td>\n",
       "      <td>3</td>\n",
       "      <td>0</td>\n",
       "    </tr>\n",
       "  </tbody>\n",
       "</table>\n",
       "</div>"
      ],
      "text/plain": [
       "                     f0  f1  f2  f3    f4   f5  f6  f7  f8  f9\n",
       "date                                                          \n",
       "2023-12-31 04:00:00   4   6   4  12  2023  365  31  52   3   0\n",
       "2023-12-31 05:00:00   5   6   4  12  2023  365  31  52   3   0\n",
       "2023-12-31 06:00:00   6   6   4  12  2023  365  31  52   3   0\n",
       "2023-12-31 07:00:00   7   6   4  12  2023  365  31  52   3   0\n",
       "2023-12-31 08:00:00   8   6   4  12  2023  365  31  52   3   0\n",
       "2023-12-31 09:00:00   9   6   4  12  2023  365  31  52   3   0\n",
       "2023-12-31 10:00:00  10   6   4  12  2023  365  31  52   3   0\n",
       "2023-12-31 11:00:00  11   6   4  12  2023  365  31  52   3   0\n",
       "2023-12-31 12:00:00  12   6   4  12  2023  365  31  52   3   0\n",
       "2023-12-31 13:00:00  13   6   4  12  2023  365  31  52   3   0\n",
       "2023-12-31 14:00:00  14   6   4  12  2023  365  31  52   3   0\n",
       "2023-12-31 15:00:00  15   6   4  12  2023  365  31  52   3   0\n",
       "2023-12-31 16:00:00  16   6   4  12  2023  365  31  52   3   0\n",
       "2023-12-31 17:00:00  17   6   4  12  2023  365  31  52   3   0\n",
       "2023-12-31 18:00:00  18   6   4  12  2023  365  31  52   3   0\n",
       "2023-12-31 19:00:00  19   6   4  12  2023  365  31  52   3   0\n",
       "2023-12-31 20:00:00  20   6   4  12  2023  365  31  52   3   0\n",
       "2023-12-31 21:00:00  21   6   4  12  2023  365  31  52   3   0\n",
       "2023-12-31 22:00:00  22   6   4  12  2023  365  31  52   3   0\n",
       "2023-12-31 23:00:00  23   6   4  12  2023  365  31  52   3   0"
      ]
     },
     "execution_count": 111,
     "metadata": {},
     "output_type": "execute_result"
    }
   ],
   "source": [
    "X_test.tail(20)"
   ]
  },
  {
   "cell_type": "code",
   "execution_count": 193,
   "metadata": {},
   "outputs": [
    {
     "data": {
      "text/plain": [
       "0.5503283010764283"
      ]
     },
     "execution_count": 193,
     "metadata": {},
     "output_type": "execute_result"
    }
   ],
   "source": [
    "model.score(X_test, y_test)"
   ]
  },
  {
   "cell_type": "code",
   "execution_count": 194,
   "metadata": {},
   "outputs": [
    {
     "data": {
      "text/plain": [
       "array([29.73603472, 24.5048727 , 27.82722156, 14.95360639, 12.56081023])"
      ]
     },
     "execution_count": 194,
     "metadata": {},
     "output_type": "execute_result"
    }
   ],
   "source": [
    "model.predict(X_test[:5].values)"
   ]
  },
  {
   "cell_type": "code",
   "execution_count": 196,
   "metadata": {},
   "outputs": [],
   "source": [
    "def skl2onnx_convert_lightgbm(scope, operator, container):\n",
    "    options = scope.get_options(operator.raw_operator)\n",
    "    if \"split\" in options:\n",
    "        if pv.Version(oml_version) < pv.Version(\"1.9.2\"):\n",
    "            warnings.warn(\n",
    "                \"Option split was released in version 1.9.2 but %s is \"\n",
    "                \"installed. It will be ignored.\" % oml_version\n",
    "            )\n",
    "        operator.split = options[\"split\"]\n",
    "    else:\n",
    "        operator.split = None\n",
    "    convert_lightgbm(scope, operator, container)\n",
    "\n",
    "\n",
    "update_registered_converter(\n",
    "    LGBMRegressor,\n",
    "    \"LightGbmLGBMRegressor\",\n",
    "    calculate_linear_regressor_output_shapes,\n",
    "    skl2onnx_convert_lightgbm,\n",
    "    options={\"split\": None},\n",
    ")"
   ]
  },
  {
   "cell_type": "code",
   "execution_count": 197,
   "metadata": {},
   "outputs": [],
   "source": [
    "initial_type = [('float_input', FloatTensorType([None, X_train.shape[1]]))]\n",
    "onx = to_onnx(\n",
    "    model, initial_types = initial_type, target_opset={\"\": 14, \"ai.onnx.ml\": 2}\n",
    ")"
   ]
  },
  {
   "cell_type": "code",
   "execution_count": 198,
   "metadata": {},
   "outputs": [
    {
     "name": "stdout",
     "output_type": "stream",
     "text": [
      "predict [29.736048 24.504864 27.827211 14.953598 12.56081 ]\n"
     ]
    }
   ],
   "source": [
    "import onnxruntime as rt\n",
    "sess = rt.InferenceSession(onx.SerializeToString(), providers=[\"CPUExecutionProvider\"])\n",
    "input_name = sess.get_inputs()[0].name\n",
    "pred_onx = sess.run(None, {input_name: X_test[:5].values.astype(np.float32)})\n",
    "print(\"predict\", pred_onx[0].ravel())\n",
    "# And save."
   ]
  },
  {
   "cell_type": "code",
   "execution_count": 199,
   "metadata": {},
   "outputs": [],
   "source": [
    "with open(f\"Onnx Models/{req_data['city']}_Light_GBM.onnx\", \"wb\") as f:\n",
    "    f.write(onx.SerializeToString())"
   ]
  },
  {
   "cell_type": "markdown",
   "metadata": {},
   "source": [
    "Convert to Onnx function"
   ]
  },
  {
   "cell_type": "code",
   "execution_count": 200,
   "metadata": {},
   "outputs": [],
   "source": [
    "def Convert_to_onnx_model(reg_model):\n",
    "    initial_type = [('float_input', FloatTensorType([None, X_train.shape[1]]))]\n",
    "    onx_model = to_onnx(reg_model, initial_types=initial_type, target_opset={\"\": 14, \"ai.onnx.ml\": 2})\n",
    "    return onx_model"
   ]
  },
  {
   "cell_type": "markdown",
   "metadata": {},
   "source": [
    "Function to Predict using Onnx Model"
   ]
  },
  {
   "cell_type": "code",
   "execution_count": 201,
   "metadata": {},
   "outputs": [],
   "source": [
    "def onnx_predict(onx_model):\n",
    "    import onnxruntime as rt\n",
    "    sess = rt.InferenceSession(onx_model.SerializeToString(), providers=[\"CPUExecutionProvider\"])\n",
    "    input_name = sess.get_inputs()[0].name\n",
    "    pred_onx = sess.run(None, {input_name: X_test[:5].values.astype(np.float32)})\n",
    "    return pred_onx"
   ]
  },
  {
   "cell_type": "code",
   "execution_count": 202,
   "metadata": {},
   "outputs": [],
   "source": [
    "def save_onnx_model(onx_model, city, model):\n",
    "    with open(f\"Onnx Models/{city}_{model}.onnx\", \"wb\") as f:\n",
    "      f.write(onx_model.SerializeToString())"
   ]
  },
  {
   "cell_type": "code",
   "execution_count": 203,
   "metadata": {},
   "outputs": [],
   "source": [
    "def onnx_load_runtime(city, model):\n",
    "    onnx_model = onnx.load(f\"Onnx Models/{city}_{model}.onnx\")\n",
    "    sess = rt.InferenceSession(onnx_model.SerializeToString(), providers=[\"CPUExecutionProvider\"])\n",
    "    input_name = sess.get_inputs()[0].name\n",
    "    pred_onx = sess.run(None, {input_name: X_test.values.astype(np.float32)})\n",
    "    print(\"predict \", pred_onx[0].ravel())"
   ]
  },
  {
   "cell_type": "markdown",
   "metadata": {},
   "source": [
    "Decision Tree"
   ]
  },
  {
   "cell_type": "code",
   "execution_count": 213,
   "metadata": {},
   "outputs": [],
   "source": [
    "from sklearn.ensemble import RandomForestRegressor\n",
    "from sklearn.tree import DecisionTreeRegressor\n",
    "from sklearn.linear_model import LinearRegression\n"
   ]
  },
  {
   "cell_type": "code",
   "execution_count": 214,
   "metadata": {},
   "outputs": [
    {
     "data": {
      "text/html": [
       "<style>#sk-container-id-21 {color: black;background-color: white;}#sk-container-id-21 pre{padding: 0;}#sk-container-id-21 div.sk-toggleable {background-color: white;}#sk-container-id-21 label.sk-toggleable__label {cursor: pointer;display: block;width: 100%;margin-bottom: 0;padding: 0.3em;box-sizing: border-box;text-align: center;}#sk-container-id-21 label.sk-toggleable__label-arrow:before {content: \"▸\";float: left;margin-right: 0.25em;color: #696969;}#sk-container-id-21 label.sk-toggleable__label-arrow:hover:before {color: black;}#sk-container-id-21 div.sk-estimator:hover label.sk-toggleable__label-arrow:before {color: black;}#sk-container-id-21 div.sk-toggleable__content {max-height: 0;max-width: 0;overflow: hidden;text-align: left;background-color: #f0f8ff;}#sk-container-id-21 div.sk-toggleable__content pre {margin: 0.2em;color: black;border-radius: 0.25em;background-color: #f0f8ff;}#sk-container-id-21 input.sk-toggleable__control:checked~div.sk-toggleable__content {max-height: 200px;max-width: 100%;overflow: auto;}#sk-container-id-21 input.sk-toggleable__control:checked~label.sk-toggleable__label-arrow:before {content: \"▾\";}#sk-container-id-21 div.sk-estimator input.sk-toggleable__control:checked~label.sk-toggleable__label {background-color: #d4ebff;}#sk-container-id-21 div.sk-label input.sk-toggleable__control:checked~label.sk-toggleable__label {background-color: #d4ebff;}#sk-container-id-21 input.sk-hidden--visually {border: 0;clip: rect(1px 1px 1px 1px);clip: rect(1px, 1px, 1px, 1px);height: 1px;margin: -1px;overflow: hidden;padding: 0;position: absolute;width: 1px;}#sk-container-id-21 div.sk-estimator {font-family: monospace;background-color: #f0f8ff;border: 1px dotted black;border-radius: 0.25em;box-sizing: border-box;margin-bottom: 0.5em;}#sk-container-id-21 div.sk-estimator:hover {background-color: #d4ebff;}#sk-container-id-21 div.sk-parallel-item::after {content: \"\";width: 100%;border-bottom: 1px solid gray;flex-grow: 1;}#sk-container-id-21 div.sk-label:hover label.sk-toggleable__label {background-color: #d4ebff;}#sk-container-id-21 div.sk-serial::before {content: \"\";position: absolute;border-left: 1px solid gray;box-sizing: border-box;top: 0;bottom: 0;left: 50%;z-index: 0;}#sk-container-id-21 div.sk-serial {display: flex;flex-direction: column;align-items: center;background-color: white;padding-right: 0.2em;padding-left: 0.2em;position: relative;}#sk-container-id-21 div.sk-item {position: relative;z-index: 1;}#sk-container-id-21 div.sk-parallel {display: flex;align-items: stretch;justify-content: center;background-color: white;position: relative;}#sk-container-id-21 div.sk-item::before, #sk-container-id-21 div.sk-parallel-item::before {content: \"\";position: absolute;border-left: 1px solid gray;box-sizing: border-box;top: 0;bottom: 0;left: 50%;z-index: -1;}#sk-container-id-21 div.sk-parallel-item {display: flex;flex-direction: column;z-index: 1;position: relative;background-color: white;}#sk-container-id-21 div.sk-parallel-item:first-child::after {align-self: flex-end;width: 50%;}#sk-container-id-21 div.sk-parallel-item:last-child::after {align-self: flex-start;width: 50%;}#sk-container-id-21 div.sk-parallel-item:only-child::after {width: 0;}#sk-container-id-21 div.sk-dashed-wrapped {border: 1px dashed gray;margin: 0 0.4em 0.5em 0.4em;box-sizing: border-box;padding-bottom: 0.4em;background-color: white;}#sk-container-id-21 div.sk-label label {font-family: monospace;font-weight: bold;display: inline-block;line-height: 1.2em;}#sk-container-id-21 div.sk-label-container {text-align: center;}#sk-container-id-21 div.sk-container {/* jupyter's `normalize.less` sets `[hidden] { display: none; }` but bootstrap.min.css set `[hidden] { display: none !important; }` so we also need the `!important` here to be able to override the default hidden behavior on the sphinx rendered scikit-learn.org. See: https://github.com/scikit-learn/scikit-learn/issues/21755 */display: inline-block !important;position: relative;}#sk-container-id-21 div.sk-text-repr-fallback {display: none;}</style><div id=\"sk-container-id-21\" class=\"sk-top-container\"><div class=\"sk-text-repr-fallback\"><pre>DecisionTreeRegressor(max_depth=13, max_features=0.7, min_samples_leaf=20)</pre><b>In a Jupyter environment, please rerun this cell to show the HTML representation or trust the notebook. <br />On GitHub, the HTML representation is unable to render, please try loading this page with nbviewer.org.</b></div><div class=\"sk-container\" hidden><div class=\"sk-item\"><div class=\"sk-estimator sk-toggleable\"><input class=\"sk-toggleable__control sk-hidden--visually\" id=\"sk-estimator-id-21\" type=\"checkbox\" checked><label for=\"sk-estimator-id-21\" class=\"sk-toggleable__label sk-toggleable__label-arrow\">DecisionTreeRegressor</label><div class=\"sk-toggleable__content\"><pre>DecisionTreeRegressor(max_depth=13, max_features=0.7, min_samples_leaf=20)</pre></div></div></div></div></div>"
      ],
      "text/plain": [
       "DecisionTreeRegressor(max_depth=13, max_features=0.7, min_samples_leaf=20)"
      ]
     },
     "execution_count": 214,
     "metadata": {},
     "output_type": "execute_result"
    }
   ],
   "source": [
    "if req_data['city'] == 'New_York':\n",
    "   model = DecisionTreeRegressor(max_features=0.7,\n",
    "                          max_depth=20, min_samples_leaf=30)\n",
    "\n",
    "if req_data['city'] == 'Chicago':\n",
    "   model = DecisionTreeRegressor(max_features=0.7,\n",
    "                          max_depth=13, min_samples_leaf=20)\n",
    "                          \n",
    "np.random.seed(0)\n",
    "model.fit(X_train, y_train)"
   ]
  },
  {
   "cell_type": "code",
   "execution_count": 215,
   "metadata": {},
   "outputs": [
    {
     "data": {
      "text/plain": [
       "0.5170570023916486"
      ]
     },
     "execution_count": 215,
     "metadata": {},
     "output_type": "execute_result"
    }
   ],
   "source": [
    "model.score(X_test,y_test)"
   ]
  },
  {
   "cell_type": "code",
   "execution_count": 216,
   "metadata": {},
   "outputs": [
    {
     "name": "stderr",
     "output_type": "stream",
     "text": [
      "c:\\Users\\Akshat\\AppData\\Local\\Programs\\Python\\Python310\\lib\\site-packages\\sklearn\\base.py:450: UserWarning: X does not have valid feature names, but DecisionTreeRegressor was fitted with feature names\n",
      "  warnings.warn(\n"
     ]
    },
    {
     "data": {
      "text/plain": [
       "array([28.9047619 , 22.55882353, 24.63333333, 14.88235294, 10.92934783])"
      ]
     },
     "execution_count": 216,
     "metadata": {},
     "output_type": "execute_result"
    }
   ],
   "source": [
    "model.predict(X_test[:5].values.astype(np.float32))"
   ]
  },
  {
   "cell_type": "code",
   "execution_count": 217,
   "metadata": {},
   "outputs": [
    {
     "data": {
      "text/plain": [
       "array([28.904762, 22.558823, 24.633333, 14.882353, 10.929348],\n",
       "      dtype=float32)"
      ]
     },
     "execution_count": 217,
     "metadata": {},
     "output_type": "execute_result"
    }
   ],
   "source": [
    "onx = Convert_to_onnx_model(model)\n",
    "onnx_predict(onx)[0].ravel()\n"
   ]
  },
  {
   "cell_type": "code",
   "execution_count": 218,
   "metadata": {},
   "outputs": [],
   "source": [
    "save_onnx_model(onx, req_data['city'], 'Decision_Tree')"
   ]
  },
  {
   "cell_type": "markdown",
   "metadata": {},
   "source": [
    "Random Forest"
   ]
  },
  {
   "cell_type": "code",
   "execution_count": 219,
   "metadata": {},
   "outputs": [
    {
     "data": {
      "text/html": [
       "<style>#sk-container-id-22 {color: black;background-color: white;}#sk-container-id-22 pre{padding: 0;}#sk-container-id-22 div.sk-toggleable {background-color: white;}#sk-container-id-22 label.sk-toggleable__label {cursor: pointer;display: block;width: 100%;margin-bottom: 0;padding: 0.3em;box-sizing: border-box;text-align: center;}#sk-container-id-22 label.sk-toggleable__label-arrow:before {content: \"▸\";float: left;margin-right: 0.25em;color: #696969;}#sk-container-id-22 label.sk-toggleable__label-arrow:hover:before {color: black;}#sk-container-id-22 div.sk-estimator:hover label.sk-toggleable__label-arrow:before {color: black;}#sk-container-id-22 div.sk-toggleable__content {max-height: 0;max-width: 0;overflow: hidden;text-align: left;background-color: #f0f8ff;}#sk-container-id-22 div.sk-toggleable__content pre {margin: 0.2em;color: black;border-radius: 0.25em;background-color: #f0f8ff;}#sk-container-id-22 input.sk-toggleable__control:checked~div.sk-toggleable__content {max-height: 200px;max-width: 100%;overflow: auto;}#sk-container-id-22 input.sk-toggleable__control:checked~label.sk-toggleable__label-arrow:before {content: \"▾\";}#sk-container-id-22 div.sk-estimator input.sk-toggleable__control:checked~label.sk-toggleable__label {background-color: #d4ebff;}#sk-container-id-22 div.sk-label input.sk-toggleable__control:checked~label.sk-toggleable__label {background-color: #d4ebff;}#sk-container-id-22 input.sk-hidden--visually {border: 0;clip: rect(1px 1px 1px 1px);clip: rect(1px, 1px, 1px, 1px);height: 1px;margin: -1px;overflow: hidden;padding: 0;position: absolute;width: 1px;}#sk-container-id-22 div.sk-estimator {font-family: monospace;background-color: #f0f8ff;border: 1px dotted black;border-radius: 0.25em;box-sizing: border-box;margin-bottom: 0.5em;}#sk-container-id-22 div.sk-estimator:hover {background-color: #d4ebff;}#sk-container-id-22 div.sk-parallel-item::after {content: \"\";width: 100%;border-bottom: 1px solid gray;flex-grow: 1;}#sk-container-id-22 div.sk-label:hover label.sk-toggleable__label {background-color: #d4ebff;}#sk-container-id-22 div.sk-serial::before {content: \"\";position: absolute;border-left: 1px solid gray;box-sizing: border-box;top: 0;bottom: 0;left: 50%;z-index: 0;}#sk-container-id-22 div.sk-serial {display: flex;flex-direction: column;align-items: center;background-color: white;padding-right: 0.2em;padding-left: 0.2em;position: relative;}#sk-container-id-22 div.sk-item {position: relative;z-index: 1;}#sk-container-id-22 div.sk-parallel {display: flex;align-items: stretch;justify-content: center;background-color: white;position: relative;}#sk-container-id-22 div.sk-item::before, #sk-container-id-22 div.sk-parallel-item::before {content: \"\";position: absolute;border-left: 1px solid gray;box-sizing: border-box;top: 0;bottom: 0;left: 50%;z-index: -1;}#sk-container-id-22 div.sk-parallel-item {display: flex;flex-direction: column;z-index: 1;position: relative;background-color: white;}#sk-container-id-22 div.sk-parallel-item:first-child::after {align-self: flex-end;width: 50%;}#sk-container-id-22 div.sk-parallel-item:last-child::after {align-self: flex-start;width: 50%;}#sk-container-id-22 div.sk-parallel-item:only-child::after {width: 0;}#sk-container-id-22 div.sk-dashed-wrapped {border: 1px dashed gray;margin: 0 0.4em 0.5em 0.4em;box-sizing: border-box;padding-bottom: 0.4em;background-color: white;}#sk-container-id-22 div.sk-label label {font-family: monospace;font-weight: bold;display: inline-block;line-height: 1.2em;}#sk-container-id-22 div.sk-label-container {text-align: center;}#sk-container-id-22 div.sk-container {/* jupyter's `normalize.less` sets `[hidden] { display: none; }` but bootstrap.min.css set `[hidden] { display: none !important; }` so we also need the `!important` here to be able to override the default hidden behavior on the sphinx rendered scikit-learn.org. See: https://github.com/scikit-learn/scikit-learn/issues/21755 */display: inline-block !important;position: relative;}#sk-container-id-22 div.sk-text-repr-fallback {display: none;}</style><div id=\"sk-container-id-22\" class=\"sk-top-container\"><div class=\"sk-text-repr-fallback\"><pre>RandomForestRegressor(max_depth=13, max_features=0.7, min_samples_leaf=20,\n",
       "                      n_estimators=346)</pre><b>In a Jupyter environment, please rerun this cell to show the HTML representation or trust the notebook. <br />On GitHub, the HTML representation is unable to render, please try loading this page with nbviewer.org.</b></div><div class=\"sk-container\" hidden><div class=\"sk-item\"><div class=\"sk-estimator sk-toggleable\"><input class=\"sk-toggleable__control sk-hidden--visually\" id=\"sk-estimator-id-22\" type=\"checkbox\" checked><label for=\"sk-estimator-id-22\" class=\"sk-toggleable__label sk-toggleable__label-arrow\">RandomForestRegressor</label><div class=\"sk-toggleable__content\"><pre>RandomForestRegressor(max_depth=13, max_features=0.7, min_samples_leaf=20,\n",
       "                      n_estimators=346)</pre></div></div></div></div></div>"
      ],
      "text/plain": [
       "RandomForestRegressor(max_depth=13, max_features=0.7, min_samples_leaf=20,\n",
       "                      n_estimators=346)"
      ]
     },
     "execution_count": 219,
     "metadata": {},
     "output_type": "execute_result"
    }
   ],
   "source": [
    "if req_data['city'] == 'New_York':\n",
    "   model = RandomForestRegressor( max_features=0.7,\n",
    "                          n_estimators=1000,\n",
    "                          max_depth=15, min_samples_leaf=30\n",
    "                      )\n",
    "if req_data['city'] == 'Chicago':\n",
    "   model = RandomForestRegressor( max_features=0.7,\n",
    "                n_estimators=346,\n",
    "                     max_depth=13, min_samples_leaf=20\n",
    "                     )\n",
    "np.random.seed(0)\n",
    "model.fit(X_train, y_train)"
   ]
  },
  {
   "cell_type": "code",
   "execution_count": 220,
   "metadata": {},
   "outputs": [
    {
     "data": {
      "text/plain": [
       "0.5631832363173775"
      ]
     },
     "execution_count": 220,
     "metadata": {},
     "output_type": "execute_result"
    }
   ],
   "source": [
    "model.score(X_test,y_test)"
   ]
  },
  {
   "cell_type": "code",
   "execution_count": 221,
   "metadata": {},
   "outputs": [
    {
     "name": "stderr",
     "output_type": "stream",
     "text": [
      "c:\\Users\\Akshat\\AppData\\Local\\Programs\\Python\\Python310\\lib\\site-packages\\sklearn\\base.py:450: UserWarning: X does not have valid feature names, but RandomForestRegressor was fitted with feature names\n",
      "  warnings.warn(\n"
     ]
    },
    {
     "data": {
      "text/plain": [
       "array([28.91701496, 24.23446707, 25.03036903, 12.75430781, 10.77710911])"
      ]
     },
     "execution_count": 221,
     "metadata": {},
     "output_type": "execute_result"
    }
   ],
   "source": [
    "model.predict(X_test[:5].values)"
   ]
  },
  {
   "cell_type": "code",
   "execution_count": 222,
   "metadata": {},
   "outputs": [
    {
     "data": {
      "text/plain": [
       "array([28.917015, 24.23448 , 25.03037 , 12.75431 , 10.777109],\n",
       "      dtype=float32)"
      ]
     },
     "execution_count": 222,
     "metadata": {},
     "output_type": "execute_result"
    }
   ],
   "source": [
    "onx = Convert_to_onnx_model(model)\n",
    "onnx_predict(onx)[0].ravel()"
   ]
  },
  {
   "cell_type": "code",
   "execution_count": 223,
   "metadata": {},
   "outputs": [],
   "source": [
    "save_onnx_model(onx, req_data['city'], 'Random_Forest')"
   ]
  },
  {
   "cell_type": "markdown",
   "metadata": {},
   "source": [
    "Linear Regression"
   ]
  },
  {
   "cell_type": "code",
   "execution_count": 228,
   "metadata": {},
   "outputs": [
    {
     "data": {
      "text/plain": [
       "-0.2382545270428813"
      ]
     },
     "execution_count": 228,
     "metadata": {},
     "output_type": "execute_result"
    }
   ],
   "source": [
    "model = LinearRegression()\n",
    "model.fit(X_train, y_train)\n",
    "model.score(X_test, y_test)"
   ]
  },
  {
   "cell_type": "code",
   "execution_count": 229,
   "metadata": {},
   "outputs": [
    {
     "name": "stderr",
     "output_type": "stream",
     "text": [
      "c:\\Users\\Akshat\\AppData\\Local\\Programs\\Python\\Python310\\lib\\site-packages\\sklearn\\base.py:450: UserWarning: X does not have valid feature names, but LinearRegression was fitted with feature names\n",
      "  warnings.warn(\n"
     ]
    },
    {
     "data": {
      "text/plain": [
       "array([41.31912462, 42.89357478,  7.75483443,  9.3292846 , 10.90373476])"
      ]
     },
     "execution_count": 229,
     "metadata": {},
     "output_type": "execute_result"
    }
   ],
   "source": [
    "model.predict(X_test[:5].values)"
   ]
  },
  {
   "cell_type": "code",
   "execution_count": 230,
   "metadata": {},
   "outputs": [
    {
     "data": {
      "text/plain": [
       "array([41.318848, 42.89331 ,  7.754883,  9.329346, 10.903809],\n",
       "      dtype=float32)"
      ]
     },
     "execution_count": 230,
     "metadata": {},
     "output_type": "execute_result"
    }
   ],
   "source": [
    "onx = Convert_to_onnx_model(model)\n",
    "onnx_predict(onx)[0].ravel()"
   ]
  },
  {
   "cell_type": "code",
   "execution_count": 231,
   "metadata": {},
   "outputs": [],
   "source": [
    "save_onnx_model(onx, req_data['city'], 'Linear')"
   ]
  }
 ],
 "metadata": {
  "kernelspec": {
   "display_name": "Python 3",
   "language": "python",
   "name": "python3"
  },
  "language_info": {
   "codemirror_mode": {
    "name": "ipython",
    "version": 3
   },
   "file_extension": ".py",
   "mimetype": "text/x-python",
   "name": "python",
   "nbconvert_exporter": "python",
   "pygments_lexer": "ipython3",
   "version": "3.10.0"
  }
 },
 "nbformat": 4,
 "nbformat_minor": 2
}
